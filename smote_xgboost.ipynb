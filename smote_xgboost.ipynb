{
 "cells": [
  {
   "cell_type": "code",
   "execution_count": 1,
   "metadata": {},
   "outputs": [],
   "source": [
    "import pandas as pd\n",
    "import numpy as np\n",
    "\n",
    "import seaborn as sns\n",
    "import matplotlib.pyplot as plt\n",
    "from sklearn.ensemble import AdaBoostClassifier\n",
    "from sklearn.metrics import classification_report\n",
    "from sklearn.metrics import average_precision_score\n",
    "from sklearn.metrics import precision_recall_curve\n",
    "from sklearn import metrics\n",
    "from sklearn.utils import resample\n",
    "from imblearn.over_sampling import SMOTE\n",
    "from sklearn.model_selection import train_test_split\n",
    "from sklearn.metrics import confusion_matrix\n",
    "from xgboost import XGBClassifier\n",
    "import xgboost as xgb\n",
    "from sklearn.preprocessing import StandardScaler\n",
    "from sklearn.ensemble import RandomForestClassifier"
   ]
  },
  {
   "cell_type": "code",
   "execution_count": 2,
   "metadata": {
    "collapsed": true
   },
   "outputs": [],
   "source": [
    "train=pd.read_csv(\"train_LZdllcl.csv\")\n",
    "test=pd.read_csv(\"test_2umaH9m.csv\")\n",
    "sub=pd.read_csv(\"sample_submission_M0L0uXE.csv\")"
   ]
  },
  {
   "cell_type": "code",
   "execution_count": 3,
   "metadata": {
    "collapsed": true
   },
   "outputs": [],
   "source": [
    "train[\"education\"]=train[\"education\"].fillna(\"Bachelor's\")\n",
    "train[\"previous_year_rating\"]=train[\"previous_year_rating\"].fillna(3)\n",
    "\n",
    "test[\"education\"]=test[\"education\"].fillna(\"Bachelor's\")\n",
    "test[\"previous_year_rating\"]=test[\"previous_year_rating\"].fillna(3)\n"
   ]
  },
  {
   "cell_type": "code",
   "execution_count": 4,
   "metadata": {
    "collapsed": true
   },
   "outputs": [],
   "source": [
    "s= StandardScaler()\n",
    "X_std = s.fit_transform(train[[\"no_of_trainings\",\"age\",\"previous_year_rating\",\"length_of_service\",\"avg_training_score\"]])\n",
    "\n",
    "X2=pd.get_dummies(train[[\"department\",\"region\",\"education\",\"gender\",\"recruitment_channel\"]])\n",
    "y = train[\"is_promoted\"]\n",
    "X2=pd.concat([train[[\"KPIs_met >80%\",\"awards_won?\"]],X2],axis=1)\n",
    "X=np.concatenate([X_std,X2],axis=1)"
   ]
  },
  {
   "cell_type": "code",
   "execution_count": 5,
   "metadata": {
    "collapsed": true
   },
   "outputs": [],
   "source": [
    "train_X,val_X,train_y,val_y=train_test_split(X,y,test_size=0.3,random_state=42)"
   ]
  },
  {
   "cell_type": "code",
   "execution_count": 6,
   "metadata": {
    "collapsed": true
   },
   "outputs": [],
   "source": [
    "sm=SMOTE(random_state=42)\n",
    "train_X_sm,train_y_sm = sm.fit_sample(train_X,train_y)"
   ]
  },
  {
   "cell_type": "code",
   "execution_count": 7,
   "metadata": {
    "collapsed": true
   },
   "outputs": [],
   "source": [
    "xgb=XGBClassifier(max_depth=6, learning_rate=0.1, n_estimators=500, silent=True, objective='binary:logistic', \n",
    "                  booster='gbtree', n_jobs=-1, nthread=4, gamma=0, min_child_weight=1, max_delta_step=0, \n",
    "                  subsample=0.9, colsample_bytree=0.9, colsample_bylevel=1, reg_alpha=0, reg_lambda=1, \n",
    "                  scale_pos_weight=1, base_score=0.5, random_state=0, seed=None, missing=None)"
   ]
  },
  {
   "cell_type": "code",
   "execution_count": 8,
   "metadata": {},
   "outputs": [
    {
     "name": "stderr",
     "output_type": "stream",
     "text": [
      "C:\\ProgramData\\Anaconda3\\lib\\site-packages\\sklearn\\preprocessing\\label.py:151: DeprecationWarning: The truth value of an empty array is ambiguous. Returning False, but in future this will result in an error. Use `array.size > 0` to check that an array is not empty.\n",
      "  if diff:\n"
     ]
    }
   ],
   "source": [
    "model_xgb=xgb.fit(train_X_sm,train_y_sm)\n",
    "predictions_xgb=model_xgb.predict(val_X)"
   ]
  },
  {
   "cell_type": "code",
   "execution_count": 9,
   "metadata": {},
   "outputs": [
    {
     "data": {
      "text/plain": [
       "0.5058823529411764"
      ]
     },
     "execution_count": 9,
     "metadata": {},
     "output_type": "execute_result"
    }
   ],
   "source": [
    "metrics.f1_score(val_y,predictions_xgb)"
   ]
  },
  {
   "cell_type": "code",
   "execution_count": 10,
   "metadata": {
    "collapsed": true
   },
   "outputs": [],
   "source": [
    "test_std = s.transform(test[[\"no_of_trainings\",\"age\",\"previous_year_rating\",\"length_of_service\",\"avg_training_score\"]])\n",
    "test_X=pd.get_dummies(test[[\"department\",\"region\",\"education\",\"gender\",\"recruitment_channel\"]])\n",
    "test_X=pd.concat([test[[\"KPIs_met >80%\",\"awards_won?\"]],test_X],axis=1)\n",
    "test_X=np.concatenate([test_std,test_X.values],axis=1)"
   ]
  },
  {
   "cell_type": "code",
   "execution_count": 11,
   "metadata": {},
   "outputs": [
    {
     "name": "stderr",
     "output_type": "stream",
     "text": [
      "C:\\ProgramData\\Anaconda3\\lib\\site-packages\\sklearn\\preprocessing\\label.py:151: DeprecationWarning: The truth value of an empty array is ambiguous. Returning False, but in future this will result in an error. Use `array.size > 0` to check that an array is not empty.\n",
      "  if diff:\n"
     ]
    }
   ],
   "source": [
    "predictions_test=model_xgb.predict(test_X)\n",
    "sub4=pd.DataFrame({\"employee_id\":test.employee_id,\"is_promoted\":predictions_test})\n",
    "sub4.to_csv(\"sub4.csv\",index=False)"
   ]
  },
  {
   "cell_type": "code",
   "execution_count": null,
   "metadata": {
    "collapsed": true
   },
   "outputs": [],
   "source": []
  },
  {
   "cell_type": "code",
   "execution_count": null,
   "metadata": {
    "collapsed": true
   },
   "outputs": [],
   "source": []
  },
  {
   "cell_type": "code",
   "execution_count": null,
   "metadata": {
    "collapsed": true
   },
   "outputs": [],
   "source": []
  }
 ],
 "metadata": {
  "kernelspec": {
   "display_name": "Python 3",
   "language": "python",
   "name": "python3"
  },
  "language_info": {
   "codemirror_mode": {
    "name": "ipython",
    "version": 3
   },
   "file_extension": ".py",
   "mimetype": "text/x-python",
   "name": "python",
   "nbconvert_exporter": "python",
   "pygments_lexer": "ipython3",
   "version": "3.6.3"
  }
 },
 "nbformat": 4,
 "nbformat_minor": 2
}
